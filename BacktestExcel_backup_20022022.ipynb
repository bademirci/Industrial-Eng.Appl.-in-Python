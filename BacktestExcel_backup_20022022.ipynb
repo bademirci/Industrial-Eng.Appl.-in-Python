{
  "nbformat": 4,
  "nbformat_minor": 0,
  "metadata": {
    "colab": {
      "name": "BacktestExcel.ipynb",
      "provenance": [],
      "include_colab_link": true
    },
    "kernelspec": {
      "name": "python3",
      "display_name": "Python 3"
    },
    "language_info": {
      "name": "python"
    }
  },
  "cells": [
    {
      "cell_type": "markdown",
      "metadata": {
        "id": "view-in-github",
        "colab_type": "text"
      },
      "source": [
        "<a href=\"https://colab.research.google.com/github/bademirci/Industrial-Eng.Appl.-in-Python/blob/main/BacktestExcel_backup_20022022.ipynb\" target=\"_parent\"><img src=\"https://colab.research.google.com/assets/colab-badge.svg\" alt=\"Open In Colab\"/></a>"
      ]
    },
    {
      "cell_type": "code",
      "execution_count": null,
      "metadata": {
        "id": "NzFug8mt1obf",
        "colab": {
          "base_uri": "https://localhost:8080/"
        },
        "outputId": "63db9fdf-b900-4bdc-da82-1268a683d77b"
      },
      "outputs": [
        {
          "output_type": "stream",
          "name": "stderr",
          "text": [
            "/usr/local/lib/python3.7/dist-packages/statsmodels/tools/_testing.py:19: FutureWarning: pandas.util.testing is deprecated. Use the functions in the public API at pandas.testing instead.\n",
            "  import pandas.util.testing as tm\n"
          ]
        }
      ],
      "source": [
        "import numpy # for dot product\n",
        "import pandas # for excel operations\n",
        "import openpyxl\n",
        "import pickle\n",
        "from datetime import datetime # for formatting the dates\n",
        "from pandas.core.common import flatten # for flattening the beta confidence values\n",
        "from statsmodels.tsa.vector_ar.vecm import coint_johansen # for the cointegration tests\n",
        "from statsmodels.tsa.vector_ar.vecm import VECM # for the cointegration model\n",
        "from random import sample # for sampling a sublist of a list\n",
        "from matplotlib import pyplot as plt\n",
        "from scipy import stats\n",
        "from statsmodels.tsa.api import VAR\n",
        "from statsmodels.tools.eval_measures import rmse, aic\n",
        "from statsmodels.tsa.stattools import grangercausalitytests"
      ]
    },
    {
      "cell_type": "markdown",
      "source": [
        "**Step 1:** Test each of the time-series to determine their order of integration. Ideally, this should involve using a test (such as the ADF test) for which the null hypothesis is non-stationarity; as well as a test (such as the KPSS test) for which the null is stationarity. It’s good to have a cross-check"
      ],
      "metadata": {
        "id": "rW75xFRAuSCU"
      }
    },
    {
      "cell_type": "code",
      "source": [
        "data = pandas.read_excel('cc_18032022.xlsx',index_col=0);\n",
        "data = data.iloc[:, :15]\n",
        "print(data)\n",
        "data.index = pandas.to_datetime(data.index)\n",
        "data = data.dropna()"
      ],
      "metadata": {
        "id": "zXU1WgceuRUQ",
        "outputId": "1604453f-36d3-4a63-9591-e1a5bb59d5c3",
        "colab": {
          "base_uri": "https://localhost:8080/"
        }
      },
      "execution_count": null,
      "outputs": [
        {
          "output_type": "stream",
          "name": "stdout",
          "text": [
            "                     ADA-PERP  ATOM-PERP  AVAX-PERP  BCH-PERP  BNB-PERP  \\\n",
            "time                                                                      \n",
            "2021-03-18T18:00:00  1.309820    23.3630     35.020    539.00  265.9975   \n",
            "2021-03-19T18:00:00  1.325780    22.4930     37.760    543.00  267.5000   \n",
            "2021-03-20T18:00:00  1.245610    22.4300     36.104    550.70  271.9375   \n",
            "2021-03-21T18:00:00  1.217445    21.0485     33.482    528.60  265.6925   \n",
            "2021-03-22T18:00:00  1.181780    20.5555     32.619    535.05  277.9725   \n",
            "...                       ...        ...        ...       ...       ...   \n",
            "2022-03-14T18:00:00  0.791600    26.1440     66.822    282.40  366.2875   \n",
            "2022-03-15T18:00:00  0.808190    27.7690     70.692    292.25  373.0300   \n",
            "2022-03-16T18:00:00  0.816500    28.5500     71.458    292.70  378.1200   \n",
            "2022-03-17T18:00:00  0.841960    28.4945     80.368    297.55  389.3625   \n",
            "2022-03-18T18:00:00  0.854235    28.3745     85.050    304.15  398.3850   \n",
            "\n",
            "                     BTC-PERP  DOT-PERP  ETH-PERP  FTM-PERP  LTC-PERP  \\\n",
            "time                                                                    \n",
            "2021-03-18T18:00:00     59377    36.504    1824.1   0.40705    204.98   \n",
            "2021-03-19T18:00:00     59016    38.529    1827.0   0.43940    202.44   \n",
            "2021-03-20T18:00:00     59544    39.606    1853.8   0.47710    204.45   \n",
            "2021-03-21T18:00:00     57555    37.474    1799.0   0.42855    197.54   \n",
            "2021-03-22T18:00:00     57212    37.282    1785.3   0.43895    196.59   \n",
            "...                       ...       ...       ...       ...       ...   \n",
            "2022-03-14T18:00:00     38794    17.370    2541.2   1.08490    102.51   \n",
            "2022-03-15T18:00:00     39550    17.948    2638.9   1.19840    107.68   \n",
            "2022-03-16T18:00:00     40575    18.117    2722.0   1.18200    108.95   \n",
            "2022-03-17T18:00:00     40900    18.898    2820.1   1.23550    111.46   \n",
            "2022-03-18T18:00:00     41879    19.058    2942.6   1.27970    111.95   \n",
            "\n",
            "                     LUNA-PERP  MATIC-PERP  SOL-PERP  WAVES-PERP  XRP-PERP  \n",
            "time                                                                        \n",
            "2021-03-18T18:00:00     18.776    0.399510   14.7825     10.5755  0.482000  \n",
            "2021-03-19T18:00:00     20.361    0.417395   14.4800     10.3280  0.472700  \n",
            "2021-03-20T18:00:00     21.296    0.403398   14.7500     10.6645  0.524600  \n",
            "2021-03-21T18:00:00     22.141    0.391973   14.3150     10.0815  0.505875  \n",
            "2021-03-22T18:00:00     20.993    0.377090   15.7700     10.6750  0.602450  \n",
            "...                        ...         ...       ...         ...       ...  \n",
            "2022-03-14T18:00:00     91.137    1.345310   79.3675     25.6355  0.762475  \n",
            "2022-03-15T18:00:00     91.545    1.397822   85.0175     26.6000  0.768175  \n",
            "2022-03-16T18:00:00     87.830    1.407400   84.4350     28.5325  0.771550  \n",
            "2022-03-17T18:00:00     87.918    1.456433   90.1650     28.7000  0.793725  \n",
            "2022-03-18T18:00:00     87.808    1.496922   91.1150     31.1390  0.793850  \n",
            "\n",
            "[371 rows x 15 columns]\n"
          ]
        }
      ]
    },
    {
      "cell_type": "code",
      "source": [
        "from pandas.plotting import lag_plot\n",
        "   \n",
        "f2, (ax4, ax5) = plt.subplots(1, 2, figsize=(15, 5))\n",
        "f2.tight_layout()\n",
        "\n",
        "lag_plot(data[data.columns[0]], ax=ax4)\n",
        "ax4.set_title(data.columns[0]);\n",
        "\n",
        "lag_plot(data[data.columns[1]], ax=ax5)\n",
        "ax5.set_title(data.columns[1]);\n",
        "\n",
        "plt.show()"
      ],
      "metadata": {
        "colab": {
          "base_uri": "https://localhost:8080/",
          "height": 374
        },
        "id": "A2AeJs-Duozp",
        "outputId": "ab366836-2501-4a78-e987-e6e0ea513114"
      },
      "execution_count": null,
      "outputs": [
        {
          "output_type": "display_data",
          "data": {
            "text/plain": [
              "<Figure size 1080x360 with 2 Axes>"
            ],
            "image/png": "[encoded data removed]"
          },
          "metadata": {
            "needs_background": "light"
          }
        }
      ]
    },
    {
      "cell_type": "markdown",
      "source": [
        "Result: Data is not stationary. We will have to make it stationary using difference operation"
      ],
      "metadata": {
        "id": "NKRMbYkOvkT7"
      }
    },
    {
      "cell_type": "code",
      "source": [
        "level_data = data.copy(deep=True)\n",
        "\n",
        "for col in data.columns:\n",
        "  data[col] = data[col].diff(1)\n",
        "data = data.dropna()\n",
        "\n",
        "#for col in data.columns:\n",
        "#  data[col] = data[col].diff(1)\n",
        "#data = data.dropna()"
      ],
      "metadata": {
        "id": "s18Rwh0kvp5d"
      },
      "execution_count": null,
      "outputs": []
    },
    {
      "cell_type": "markdown",
      "source": [
        "Split data into train and test. We will need this later for VAR analysis"
      ],
      "metadata": {
        "id": "wZJ7Aazgv80b"
      }
    },
    {
      "cell_type": "code",
      "source": [
        "train = data.iloc[:round(len(data)*0.8),:]\n",
        "test = data.iloc[round(len(data)*0.8):,:]"
      ],
      "metadata": {
        "id": "cReMvw_Xv03k"
      },
      "execution_count": null,
      "outputs": []
    },
    {
      "cell_type": "code",
      "source": [
        "train.tail()"
      ],
      "metadata": {
        "colab": {
          "base_uri": "https://localhost:8080/",
          "height": 466
        },
        "id": "Y_Vl4PJQD1Rm",
        "outputId": "2fe81bcf-11f3-49b8-8cbf-37b5608ee816"
      },
      "execution_count": null,
      "outputs": [
        {
          "output_type": "execute_result",
          "data": {
            "text/plain": [
              "                     ADA-PERP  ATOM-PERP  AVAX-PERP  BCH-PERP  BNB-PERP  \\\n",
              "time                                                                      \n",
              "2021-12-31 18:00:00 -0.044115     2.9970      4.320     -1.65   -5.9975   \n",
              "2022-01-01 18:00:00  0.020945     4.3525      4.851     11.85    8.0775   \n",
              "2022-01-02 18:00:00  0.032440    -2.1065      1.468      4.90    5.4100   \n",
              "2022-01-03 18:00:00 -0.034110     3.7865     -5.118    -10.70  -11.2050   \n",
              "2022-01-04 18:00:00 -0.000635     3.4170     -2.035     -5.25   -3.9850   \n",
              "\n",
              "                     BTC-PERP  DOT-PERP  ETH-PERP  FTM-PERP  LTC-PERP  \\\n",
              "time                                                                    \n",
              "2021-12-31 18:00:00    -871.0    -1.260     -38.8   0.04970     -2.09   \n",
              "2022-01-01 18:00:00     815.0     1.023      39.2   0.25785      3.25   \n",
              "2022-01-02 18:00:00    -429.0     2.160      60.4   0.00760      1.66   \n",
              "2022-01-03 18:00:00    -701.0     0.010     -55.2   0.22960     -3.81   \n",
              "2022-01-04 18:00:00     -12.0    -0.221      87.5   0.17515      0.90   \n",
              "\n",
              "                     LUNA-PERP  MATIC-PERP  SOL-PERP  WAVES-PERP  XRP-PERP  \n",
              "time                                                                        \n",
              "2021-12-31 18:00:00      2.712   -0.018628   -2.3175     -0.1855 -0.029975  \n",
              "2022-01-01 18:00:00      1.833    0.008055    2.9100      0.4020  0.021500  \n",
              "2022-01-02 18:00:00     -0.425   -0.020923    2.1000      0.4065  0.004850  \n",
              "2022-01-03 18:00:00      2.952   -0.092295   -6.3375     -0.0915 -0.020100  \n",
              "2022-01-04 18:00:00     -6.085    0.007953   -0.4825      0.8330 -0.005250  "
            ],
            "text/html": [
              "\n",
              "  <div id=\"df-b1bb4ab0-d1b5-460d-83c8-34881e30e3d1\">\n",
              "    <div class=\"colab-df-container\">\n",
              "      <div>\n",
              "<style scoped>\n",
              "    .dataframe tbody tr th:only-of-type {\n",
              "        vertical-align: middle;\n",
              "    }\n",
              "\n",
              "    .dataframe tbody tr th {\n",
              "        vertical-align: top;\n",
              "    }\n",
              "\n",
              "    .dataframe thead th {\n",
              "        text-align: right;\n",
              "    }\n",
              "</style>\n",
              "<table border=\"1\" class=\"dataframe\">\n",
              "  <thead>\n",
              "    <tr style=\"text-align: right;\">\n",
              "      <th></th>\n",
              "      <th>ADA-PERP</th>\n",
              "      <th>ATOM-PERP</th>\n",
              "      <th>AVAX-PERP</th>\n",
              "      <th>BCH-PERP</th>\n",
              "      <th>BNB-PERP</th>\n",
              "      <th>BTC-PERP</th>\n",
              "      <th>DOT-PERP</th>\n",
              "      <th>ETH-PERP</th>\n",
              "      <th>FTM-PERP</th>\n",
              "      <th>LTC-PERP</th>\n",
              "      <th>LUNA-PERP</th>\n",
              "      <th>MATIC-PERP</th>\n",
              "      <th>SOL-PERP</th>\n",
              "      <th>WAVES-PERP</th>\n",
              "      <th>XRP-PERP</th>\n",
              "    </tr>\n",
              "    <tr>\n",
              "      <th>time</th>\n",
              "      <th></th>\n",
              "      <th></th>\n",
              "      <th></th>\n",
              "      <th></th>\n",
              "      <th></th>\n",
              "      <th></th>\n",
              "      <th></th>\n",
              "      <th></th>\n",
              "      <th></th>\n",
              "      <th></th>\n",
              "      <th></th>\n",
              "      <th></th>\n",
              "      <th></th>\n",
              "      <th></th>\n",
              "      <th></th>\n",
              "    </tr>\n",
              "  </thead>\n",
              "  <tbody>\n",
              "    <tr>\n",
              "      <th>2021-12-31 18:00:00</th>\n",
              "      <td>-0.044115</td>\n",
              "      <td>2.9970</td>\n",
              "      <td>4.320</td>\n",
              "      <td>-1.65</td>\n",
              "      <td>-5.9975</td>\n",
              "      <td>-871.0</td>\n",
              "      <td>-1.260</td>\n",
              "      <td>-38.8</td>\n",
              "      <td>0.04970</td>\n",
              "      <td>-2.09</td>\n",
              "      <td>2.712</td>\n",
              "      <td>-0.018628</td>\n",
              "      <td>-2.3175</td>\n",
              "      <td>-0.1855</td>\n",
              "      <td>-0.029975</td>\n",
              "    </tr>\n",
              "    <tr>\n",
              "      <th>2022-01-01 18:00:00</th>\n",
              "      <td>0.020945</td>\n",
              "      <td>4.3525</td>\n",
              "      <td>4.851</td>\n",
              "      <td>11.85</td>\n",
              "      <td>8.0775</td>\n",
              "      <td>815.0</td>\n",
              "      <td>1.023</td>\n",
              "      <td>39.2</td>\n",
              "      <td>0.25785</td>\n",
              "      <td>3.25</td>\n",
              "      <td>1.833</td>\n",
              "      <td>0.008055</td>\n",
              "      <td>2.9100</td>\n",
              "      <td>0.4020</td>\n",
              "      <td>0.021500</td>\n",
              "    </tr>\n",
              "    <tr>\n",
              "      <th>2022-01-02 18:00:00</th>\n",
              "      <td>0.032440</td>\n",
              "      <td>-2.1065</td>\n",
              "      <td>1.468</td>\n",
              "      <td>4.90</td>\n",
              "      <td>5.4100</td>\n",
              "      <td>-429.0</td>\n",
              "      <td>2.160</td>\n",
              "      <td>60.4</td>\n",
              "      <td>0.00760</td>\n",
              "      <td>1.66</td>\n",
              "      <td>-0.425</td>\n",
              "      <td>-0.020923</td>\n",
              "      <td>2.1000</td>\n",
              "      <td>0.4065</td>\n",
              "      <td>0.004850</td>\n",
              "    </tr>\n",
              "    <tr>\n",
              "      <th>2022-01-03 18:00:00</th>\n",
              "      <td>-0.034110</td>\n",
              "      <td>3.7865</td>\n",
              "      <td>-5.118</td>\n",
              "      <td>-10.70</td>\n",
              "      <td>-11.2050</td>\n",
              "      <td>-701.0</td>\n",
              "      <td>0.010</td>\n",
              "      <td>-55.2</td>\n",
              "      <td>0.22960</td>\n",
              "      <td>-3.81</td>\n",
              "      <td>2.952</td>\n",
              "      <td>-0.092295</td>\n",
              "      <td>-6.3375</td>\n",
              "      <td>-0.0915</td>\n",
              "      <td>-0.020100</td>\n",
              "    </tr>\n",
              "    <tr>\n",
              "      <th>2022-01-04 18:00:00</th>\n",
              "      <td>-0.000635</td>\n",
              "      <td>3.4170</td>\n",
              "      <td>-2.035</td>\n",
              "      <td>-5.25</td>\n",
              "      <td>-3.9850</td>\n",
              "      <td>-12.0</td>\n",
              "      <td>-0.221</td>\n",
              "      <td>87.5</td>\n",
              "      <td>0.17515</td>\n",
              "      <td>0.90</td>\n",
              "      <td>-6.085</td>\n",
              "      <td>0.007953</td>\n",
              "      <td>-0.4825</td>\n",
              "      <td>0.8330</td>\n",
              "      <td>-0.005250</td>\n",
              "    </tr>\n",
              "  </tbody>\n",
              "</table>\n",
              "</div>\n",
              "      <button class=\"colab-df-convert\" onclick=\"convertToInteractive('df-b1bb4ab0-d1b5-460d-83c8-34881e30e3d1')\"\n",
              "              title=\"Convert this dataframe to an interactive table.\"\n",
              "              style=\"display:none;\">\n",
              "        \n",
              "  <svg xmlns=\"http://www.w3.org/2000/svg\" height=\"24px\"viewBox=\"0 0 24 24\"\n",
              "       width=\"24px\">\n",
              "    <path d=\"M0 0h24v24H0V0z\" fill=\"none\"/>\n",
              "    <path d=\"M18.56 5.44l.94 2.06.94-2.06 2.06-.94-2.06-.94-.94-2.06-.94 2.06-2.06.94zm-11 1L8.5 8.5l.94-2.06 2.06-.94-2.06-.94L8.5 2.5l-.94 2.06-2.06.94zm10 10l.94 2.06.94-2.06 2.06-.94-2.06-.94-.94-2.06-.94 2.06-2.06.94z\"/><path d=\"M17.41 7.96l-1.37-1.37c-.4-.4-.92-.59-1.43-.59-.52 0-1.04.2-1.43.59L10.3 9.45l-7.72 7.72c-.78.78-.78 2.05 0 2.83L4 21.41c.39.39.9.59 1.41.59.51 0 1.02-.2 1.41-.59l7.78-7.78 2.81-2.81c.8-.78.8-2.07 0-2.86zM5.41 20L4 18.59l7.72-7.72 1.47 1.35L5.41 20z\"/>\n",
              "  </svg>\n",
              "      </button>\n",
              "      \n",
              "  <style>\n",
              "    .colab-df-container {\n",
              "      display:flex;\n",
              "      flex-wrap:wrap;\n",
              "      gap: 12px;\n",
              "    }\n",
              "\n",
              "    .colab-df-convert {\n",
              "      background-color: #E8F0FE;\n",
              "      border: none;\n",
              "      border-radius: 50%;\n",
              "      cursor: pointer;\n",
              "      display: none;\n",
              "      fill: #1967D2;\n",
              "      height: 32px;\n",
              "      padding: 0 0 0 0;\n",
              "      width: 32px;\n",
              "    }\n",
              "\n",
              "    .colab-df-convert:hover {\n",
              "      background-color: #E2EBFA;\n",
              "      box-shadow: 0px 1px 2px rgba(60, 64, 67, 0.3), 0px 1px 3px 1px rgba(60, 64, 67, 0.15);\n",
              "      fill: #174EA6;\n",
              "    }\n",
              "\n",
              "    [theme=dark] .colab-df-convert {\n",
              "      background-color: #3B4455;\n",
              "      fill: #D2E3FC;\n",
              "    }\n",
              "\n",
              "    [theme=dark] .colab-df-convert:hover {\n",
              "      background-color: #434B5C;\n",
              "      box-shadow: 0px 1px 3px 1px rgba(0, 0, 0, 0.15);\n",
              "      filter: drop-shadow(0px 1px 2px rgba(0, 0, 0, 0.3));\n",
              "      fill: #FFFFFF;\n",
              "    }\n",
              "  </style>\n",
              "\n",
              "      <script>\n",
              "        const buttonEl =\n",
              "          document.querySelector('#df-b1bb4ab0-d1b5-460d-83c8-34881e30e3d1 button.colab-df-convert');\n",
              "        buttonEl.style.display =\n",
              "          google.colab.kernel.accessAllowed ? 'block' : 'none';\n",
              "\n",
              "        async function convertToInteractive(key) {\n",
              "          const element = document.querySelector('#df-b1bb4ab0-d1b5-460d-83c8-34881e30e3d1');\n",
              "          const dataTable =\n",
              "            await google.colab.kernel.invokeFunction('convertToInteractive',\n",
              "                                                     [key], {});\n",
              "          if (!dataTable) return;\n",
              "\n",
              "          const docLinkHtml = 'Like what you see? Visit the ' +\n",
              "            '<a target=\"_blank\" href=https://colab.research.google.com/notebooks/data_table.ipynb>data table notebook</a>'\n",
              "            + ' to learn more about interactive tables.';\n",
              "          element.innerHTML = '';\n",
              "          dataTable['output_type'] = 'display_data';\n",
              "          await google.colab.output.renderOutput(dataTable, element);\n",
              "          const docLink = document.createElement('div');\n",
              "          docLink.innerHTML = docLinkHtml;\n",
              "          element.appendChild(docLink);\n",
              "        }\n",
              "      </script>\n",
              "    </div>\n",
              "  </div>\n",
              "  "
            ]
          },
          "metadata": {},
          "execution_count": 6
        }
      ]
    },
    {
      "cell_type": "code",
      "source": [
        "test.head()"
      ],
      "metadata": {
        "colab": {
          "base_uri": "https://localhost:8080/",
          "height": 486
        },
        "id": "xdE808kPFMI8",
        "outputId": "fc047489-e13f-43f6-de5f-88c07aa6e241"
      },
      "execution_count": null,
      "outputs": [
        {
          "output_type": "execute_result",
          "data": {
            "text/plain": [
              "                     ADA-PERP  ATOM-PERP  AVAX-PERP  BCH-PERP  BNB-PERP  \\\n",
              "time                                                                      \n",
              "2022-01-05 18:00:00 -0.029530    -2.3315     -4.710     -7.45   -5.8975   \n",
              "2022-01-06 18:00:00 -0.060545     1.6625     -6.590    -24.65  -28.5400   \n",
              "2022-01-07 18:00:00 -0.022065     0.5100     -7.332    -10.20  -26.7175   \n",
              "2022-01-08 18:00:00 -0.060830    -6.0905     -7.079    -18.15  -18.2175   \n",
              "2022-01-09 18:00:00  0.026880     0.8520      8.356      5.70    6.0600   \n",
              "\n",
              "                     BTC-PERP  DOT-PERP  ETH-PERP  FTM-PERP  LTC-PERP  \\\n",
              "time                                                                    \n",
              "2022-01-05 18:00:00    -266.0    -0.617     -85.4   0.06600     -0.88   \n",
              "2022-01-06 18:00:00   -3045.0    -2.207    -316.2   0.02730    -10.81   \n",
              "2022-01-07 18:00:00   -1387.0    -1.355    -247.2  -0.26485     -3.53   \n",
              "2022-01-08 18:00:00    -669.0    -1.856    -128.9  -0.44895     -5.33   \n",
              "2022-01-09 18:00:00     949.0     0.993      98.1   0.16845      2.43   \n",
              "\n",
              "                     LUNA-PERP  MATIC-PERP  SOL-PERP  WAVES-PERP  XRP-PERP  \n",
              "time                                                                        \n",
              "2022-01-05 18:00:00     -3.358   -0.112530   -5.4600     -0.7660 -0.006775  \n",
              "2022-01-06 18:00:00     -3.799   -0.097870  -11.1525     -1.2035 -0.051125  \n",
              "2022-01-07 18:00:00     -7.888   -0.131053  -13.9475     -0.3345 -0.007975  \n",
              "2022-01-08 18:00:00     -6.912   -0.162325   -2.0175     -0.6410 -0.021350  \n",
              "2022-01-09 18:00:00      8.820    0.149147    6.6450      0.8735  0.016475  "
            ],
            "text/html": [
              "\n",
              "  <div id=\"df-d96db16d-7444-4973-8068-9f1c31832801\">\n",
              "    <div class=\"colab-df-container\">\n",
              "      <div>\n",
              "<style scoped>\n",
              "    .dataframe tbody tr th:only-of-type {\n",
              "        vertical-align: middle;\n",
              "    }\n",
              "\n",
              "    .dataframe tbody tr th {\n",
              "        vertical-align: top;\n",
              "    }\n",
              "\n",
              "    .dataframe thead th {\n",
              "        text-align: right;\n",
              "    }\n",
              "</style>\n",
              "<table border=\"1\" class=\"dataframe\">\n",
              "  <thead>\n",
              "    <tr style=\"text-align: right;\">\n",
              "      <th></th>\n",
              "      <th>ADA-PERP</th>\n",
              "      <th>ATOM-PERP</th>\n",
              "      <th>AVAX-PERP</th>\n",
              "      <th>BCH-PERP</th>\n",
              "      <th>BNB-PERP</th>\n",
              "      <th>BTC-PERP</th>\n",
              "      <th>DOT-PERP</th>\n",
              "      <th>ETH-PERP</th>\n",
              "      <th>FTM-PERP</th>\n",
              "      <th>LTC-PERP</th>\n",
              "      <th>LUNA-PERP</th>\n",
              "      <th>MATIC-PERP</th>\n",
              "      <th>SOL-PERP</th>\n",
              "      <th>WAVES-PERP</th>\n",
              "      <th>XRP-PERP</th>\n",
              "    </tr>\n",
              "    <tr>\n",
              "      <th>time</th>\n",
              "      <th></th>\n",
              "      <th></th>\n",
              "      <th></th>\n",
              "      <th></th>\n",
              "      <th></th>\n",
              "      <th></th>\n",
              "      <th></th>\n",
              "      <th></th>\n",
              "      <th></th>\n",
              "      <th></th>\n",
              "      <th></th>\n",
              "      <th></th>\n",
              "      <th></th>\n",
              "      <th></th>\n",
              "      <th></th>\n",
              "    </tr>\n",
              "  </thead>\n",
              "  <tbody>\n",
              "    <tr>\n",
              "      <th>2022-01-05 18:00:00</th>\n",
              "      <td>-0.029530</td>\n",
              "      <td>-2.3315</td>\n",
              "      <td>-4.710</td>\n",
              "      <td>-7.45</td>\n",
              "      <td>-5.8975</td>\n",
              "      <td>-266.0</td>\n",
              "      <td>-0.617</td>\n",
              "      <td>-85.4</td>\n",
              "      <td>0.06600</td>\n",
              "      <td>-0.88</td>\n",
              "      <td>-3.358</td>\n",
              "      <td>-0.112530</td>\n",
              "      <td>-5.4600</td>\n",
              "      <td>-0.7660</td>\n",
              "      <td>-0.006775</td>\n",
              "    </tr>\n",
              "    <tr>\n",
              "      <th>2022-01-06 18:00:00</th>\n",
              "      <td>-0.060545</td>\n",
              "      <td>1.6625</td>\n",
              "      <td>-6.590</td>\n",
              "      <td>-24.65</td>\n",
              "      <td>-28.5400</td>\n",
              "      <td>-3045.0</td>\n",
              "      <td>-2.207</td>\n",
              "      <td>-316.2</td>\n",
              "      <td>0.02730</td>\n",
              "      <td>-10.81</td>\n",
              "      <td>-3.799</td>\n",
              "      <td>-0.097870</td>\n",
              "      <td>-11.1525</td>\n",
              "      <td>-1.2035</td>\n",
              "      <td>-0.051125</td>\n",
              "    </tr>\n",
              "    <tr>\n",
              "      <th>2022-01-07 18:00:00</th>\n",
              "      <td>-0.022065</td>\n",
              "      <td>0.5100</td>\n",
              "      <td>-7.332</td>\n",
              "      <td>-10.20</td>\n",
              "      <td>-26.7175</td>\n",
              "      <td>-1387.0</td>\n",
              "      <td>-1.355</td>\n",
              "      <td>-247.2</td>\n",
              "      <td>-0.26485</td>\n",
              "      <td>-3.53</td>\n",
              "      <td>-7.888</td>\n",
              "      <td>-0.131053</td>\n",
              "      <td>-13.9475</td>\n",
              "      <td>-0.3345</td>\n",
              "      <td>-0.007975</td>\n",
              "    </tr>\n",
              "    <tr>\n",
              "      <th>2022-01-08 18:00:00</th>\n",
              "      <td>-0.060830</td>\n",
              "      <td>-6.0905</td>\n",
              "      <td>-7.079</td>\n",
              "      <td>-18.15</td>\n",
              "      <td>-18.2175</td>\n",
              "      <td>-669.0</td>\n",
              "      <td>-1.856</td>\n",
              "      <td>-128.9</td>\n",
              "      <td>-0.44895</td>\n",
              "      <td>-5.33</td>\n",
              "      <td>-6.912</td>\n",
              "      <td>-0.162325</td>\n",
              "      <td>-2.0175</td>\n",
              "      <td>-0.6410</td>\n",
              "      <td>-0.021350</td>\n",
              "    </tr>\n",
              "    <tr>\n",
              "      <th>2022-01-09 18:00:00</th>\n",
              "      <td>0.026880</td>\n",
              "      <td>0.8520</td>\n",
              "      <td>8.356</td>\n",
              "      <td>5.70</td>\n",
              "      <td>6.0600</td>\n",
              "      <td>949.0</td>\n",
              "      <td>0.993</td>\n",
              "      <td>98.1</td>\n",
              "      <td>0.16845</td>\n",
              "      <td>2.43</td>\n",
              "      <td>8.820</td>\n",
              "      <td>0.149147</td>\n",
              "      <td>6.6450</td>\n",
              "      <td>0.8735</td>\n",
              "      <td>0.016475</td>\n",
              "    </tr>\n",
              "  </tbody>\n",
              "</table>\n",
              "</div>\n",
              "      <button class=\"colab-df-convert\" onclick=\"convertToInteractive('df-d96db16d-7444-4973-8068-9f1c31832801')\"\n",
              "              title=\"Convert this dataframe to an interactive table.\"\n",
              "              style=\"display:none;\">\n",
              "        \n",
              "  <svg xmlns=\"http://www.w3.org/2000/svg\" height=\"24px\"viewBox=\"0 0 24 24\"\n",
              "       width=\"24px\">\n",
              "    <path d=\"M0 0h24v24H0V0z\" fill=\"none\"/>\n",
              "    <path d=\"M18.56 5.44l.94 2.06.94-2.06 2.06-.94-2.06-.94-.94-2.06-.94 2.06-2.06.94zm-11 1L8.5 8.5l.94-2.06 2.06-.94-2.06-.94L8.5 2.5l-.94 2.06-2.06.94zm10 10l.94 2.06.94-2.06 2.06-.94-2.06-.94-.94-2.06-.94 2.06-2.06.94z\"/><path d=\"M17.41 7.96l-1.37-1.37c-.4-.4-.92-.59-1.43-.59-.52 0-1.04.2-1.43.59L10.3 9.45l-7.72 7.72c-.78.78-.78 2.05 0 2.83L4 21.41c.39.39.9.59 1.41.59.51 0 1.02-.2 1.41-.59l7.78-7.78 2.81-2.81c.8-.78.8-2.07 0-2.86zM5.41 20L4 18.59l7.72-7.72 1.47 1.35L5.41 20z\"/>\n",
              "  </svg>\n",
              "      </button>\n",
              "      \n",
              "  <style>\n",
              "    .colab-df-container {\n",
              "      display:flex;\n",
              "      flex-wrap:wrap;\n",
              "      gap: 12px;\n",
              "    }\n",
              "\n",
              "    .colab-df-convert {\n",
              "      background-color: #E8F0FE;\n",
              "      border: none;\n",
              "      border-radius: 50%;\n",
              "      cursor: pointer;\n",
              "      display: none;\n",
              "      fill: #1967D2;\n",
              "      height: 32px;\n",
              "      padding: 0 0 0 0;\n",
              "      width: 32px;\n",
              "    }\n",
              "\n",
              "    .colab-df-convert:hover {\n",
              "      background-color: #E2EBFA;\n",
              "      box-shadow: 0px 1px 2px rgba(60, 64, 67, 0.3), 0px 1px 3px 1px rgba(60, 64, 67, 0.15);\n",
              "      fill: #174EA6;\n",
              "    }\n",
              "\n",
              "    [theme=dark] .colab-df-convert {\n",
              "      background-color: #3B4455;\n",
              "      fill: #D2E3FC;\n",
              "    }\n",
              "\n",
              "    [theme=dark] .colab-df-convert:hover {\n",
              "      background-color: #434B5C;\n",
              "      box-shadow: 0px 1px 3px 1px rgba(0, 0, 0, 0.15);\n",
              "      filter: drop-shadow(0px 1px 2px rgba(0, 0, 0, 0.3));\n",
              "      fill: #FFFFFF;\n",
              "    }\n",
              "  </style>\n",
              "\n",
              "      <script>\n",
              "        const buttonEl =\n",
              "          document.querySelector('#df-d96db16d-7444-4973-8068-9f1c31832801 button.colab-df-convert');\n",
              "        buttonEl.style.display =\n",
              "          google.colab.kernel.accessAllowed ? 'block' : 'none';\n",
              "\n",
              "        async function convertToInteractive(key) {\n",
              "          const element = document.querySelector('#df-d96db16d-7444-4973-8068-9f1c31832801');\n",
              "          const dataTable =\n",
              "            await google.colab.kernel.invokeFunction('convertToInteractive',\n",
              "                                                     [key], {});\n",
              "          if (!dataTable) return;\n",
              "\n",
              "          const docLinkHtml = 'Like what you see? Visit the ' +\n",
              "            '<a target=\"_blank\" href=https://colab.research.google.com/notebooks/data_table.ipynb>data table notebook</a>'\n",
              "            + ' to learn more about interactive tables.';\n",
              "          element.innerHTML = '';\n",
              "          dataTable['output_type'] = 'display_data';\n",
              "          await google.colab.output.renderOutput(dataTable, element);\n",
              "          const docLink = document.createElement('div');\n",
              "          docLink.innerHTML = docLinkHtml;\n",
              "          element.appendChild(docLink);\n",
              "        }\n",
              "      </script>\n",
              "    </div>\n",
              "  </div>\n",
              "  "
            ]
          },
          "metadata": {},
          "execution_count": 7
        }
      ]
    },
    {
      "cell_type": "markdown",
      "source": [
        "ADF Null hypothesis: there is a unit root, i.e. series is non-stationary"
      ],
      "metadata": {
        "id": "954BDWx7wAiP"
      }
    },
    {
      "cell_type": "code",
      "source": [
        "from statsmodels.tsa.stattools import adfuller\n",
        "\n",
        "Xs = []\n",
        "for col in data.columns:\n",
        "  X = numpy.array(data[col])\n",
        "  X = X[~numpy.isnan(X)]\n",
        "  Xs.append(X)\n",
        "  result = adfuller(X)\n",
        "  print('ADF Statistic: %f' % result[0])\n",
        "  print('p-value: %f' % result[1])\n",
        "  print('Critical Values:')\n",
        "  for key, value in result[4].items():\n",
        "      print('\\t%s: %.3f' % (key, value))"
      ],
      "metadata": {
        "colab": {
          "base_uri": "https://localhost:8080/"
        },
        "id": "sde80SlYv48N",
        "outputId": "ece37280-7596-430d-bad5-cd0ff8031f42"
      },
      "execution_count": null,
      "outputs": [
        {
          "output_type": "stream",
          "name": "stdout",
          "text": [
            "ADF Statistic: -20.726221\n",
            "p-value: 0.000000\n",
            "Critical Values:\n",
            "\t1%: -3.448\n",
            "\t5%: -2.869\n",
            "\t10%: -2.571\n",
            "ADF Statistic: -16.333239\n",
            "p-value: 0.000000\n",
            "Critical Values:\n",
            "\t1%: -3.448\n",
            "\t5%: -2.869\n",
            "\t10%: -2.571\n",
            "ADF Statistic: -5.614977\n",
            "p-value: 0.000001\n",
            "Critical Values:\n",
            "\t1%: -3.449\n",
            "\t5%: -2.870\n",
            "\t10%: -2.571\n",
            "ADF Statistic: -6.456226\n",
            "p-value: 0.000000\n",
            "Critical Values:\n",
            "\t1%: -3.449\n",
            "\t5%: -2.870\n",
            "\t10%: -2.571\n",
            "ADF Statistic: -12.613339\n",
            "p-value: 0.000000\n",
            "Critical Values:\n",
            "\t1%: -3.448\n",
            "\t5%: -2.869\n",
            "\t10%: -2.571\n",
            "ADF Statistic: -20.422477\n",
            "p-value: 0.000000\n",
            "Critical Values:\n",
            "\t1%: -3.448\n",
            "\t5%: -2.869\n",
            "\t10%: -2.571\n",
            "ADF Statistic: -19.435710\n",
            "p-value: 0.000000\n",
            "Critical Values:\n",
            "\t1%: -3.448\n",
            "\t5%: -2.869\n",
            "\t10%: -2.571\n",
            "ADF Statistic: -19.425792\n",
            "p-value: 0.000000\n",
            "Critical Values:\n",
            "\t1%: -3.448\n",
            "\t5%: -2.869\n",
            "\t10%: -2.571\n",
            "ADF Statistic: -18.012072\n",
            "p-value: 0.000000\n",
            "Critical Values:\n",
            "\t1%: -3.448\n",
            "\t5%: -2.869\n",
            "\t10%: -2.571\n",
            "ADF Statistic: -6.063654\n",
            "p-value: 0.000000\n",
            "Critical Values:\n",
            "\t1%: -3.449\n",
            "\t5%: -2.870\n",
            "\t10%: -2.571\n",
            "ADF Statistic: -17.532604\n",
            "p-value: 0.000000\n",
            "Critical Values:\n",
            "\t1%: -3.448\n",
            "\t5%: -2.869\n",
            "\t10%: -2.571\n",
            "ADF Statistic: -7.591225\n",
            "p-value: 0.000000\n",
            "Critical Values:\n",
            "\t1%: -3.448\n",
            "\t5%: -2.870\n",
            "\t10%: -2.571\n",
            "ADF Statistic: -18.294386\n",
            "p-value: 0.000000\n",
            "Critical Values:\n",
            "\t1%: -3.448\n",
            "\t5%: -2.869\n",
            "\t10%: -2.571\n",
            "ADF Statistic: -5.155638\n",
            "p-value: 0.000011\n",
            "Critical Values:\n",
            "\t1%: -3.448\n",
            "\t5%: -2.870\n",
            "\t10%: -2.571\n",
            "ADF Statistic: -18.701814\n",
            "p-value: 0.000000\n",
            "Critical Values:\n",
            "\t1%: -3.448\n",
            "\t5%: -2.869\n",
            "\t10%: -2.571\n"
          ]
        }
      ]
    },
    {
      "cell_type": "markdown",
      "source": [
        "KPSS Null hypothesis: there are no unit roots, i.e. series is stationary"
      ],
      "metadata": {
        "id": "fg92pZQOwL52"
      }
    },
    {
      "cell_type": "code",
      "source": [
        "from statsmodels.tsa.stattools import kpss\n",
        "def kpss_test(series, **kw):    \n",
        "    statistic, p_value, n_lags, critical_values = kpss(series, **kw)\n",
        "    # Format Output\n",
        "    print(f'KPSS Statistic: {statistic}')\n",
        "    print(f'p-value: {p_value}')\n",
        "    print(f'num lags: {n_lags}')\n",
        "    print('Critial Values:')\n",
        "    for key, value in critical_values.items():\n",
        "        print(f'   {key} : {value}')\n",
        "    print(f'Result: The series is {\"not \" if p_value < 0.05 else \"\"}stationary')\n",
        "\n",
        "for X in Xs:\n",
        "  kpss_test(X)"
      ],
      "metadata": {
        "colab": {
          "base_uri": "https://localhost:8080/"
        },
        "id": "eYrW_VNNwMUN",
        "outputId": "a6bb32ec-ba71-4446-f254-72101a464f5b"
      },
      "execution_count": null,
      "outputs": [
        {
          "output_type": "stream",
          "name": "stdout",
          "text": [
            "KPSS Statistic: 0.17427192269210942\n",
            "p-value: 0.1\n",
            "num lags: 17\n",
            "Critial Values:\n",
            "   10% : 0.347\n",
            "   5% : 0.463\n",
            "   2.5% : 0.574\n",
            "   1% : 0.739\n",
            "Result: The series is stationary\n",
            "KPSS Statistic: 0.0711026320609725\n",
            "p-value: 0.1\n",
            "num lags: 17\n",
            "Critial Values:\n",
            "   10% : 0.347\n",
            "   5% : 0.463\n",
            "   2.5% : 0.574\n",
            "   1% : 0.739\n",
            "Result: The series is stationary\n",
            "KPSS Statistic: 0.08405484626501453\n",
            "p-value: 0.1\n",
            "num lags: 17\n",
            "Critial Values:\n",
            "   10% : 0.347\n",
            "   5% : 0.463\n",
            "   2.5% : 0.574\n",
            "   1% : 0.739\n",
            "Result: The series is stationary\n",
            "KPSS Statistic: 0.07309251651217494\n",
            "p-value: 0.1\n",
            "num lags: 17\n",
            "Critial Values:\n",
            "   10% : 0.347\n",
            "   5% : 0.463\n",
            "   2.5% : 0.574\n",
            "   1% : 0.739\n",
            "Result: The series is stationary\n",
            "KPSS Statistic: 0.10024315551734363\n",
            "p-value: 0.1\n",
            "num lags: 17\n",
            "Critial Values:\n",
            "   10% : 0.347\n",
            "   5% : 0.463\n",
            "   2.5% : 0.574\n",
            "   1% : 0.739\n",
            "Result: The series is stationary\n",
            "KPSS Statistic: 0.11043825204892185\n",
            "p-value: 0.1\n",
            "num lags: 17\n",
            "Critial Values:\n",
            "   10% : 0.347\n",
            "   5% : 0.463\n",
            "   2.5% : 0.574\n",
            "   1% : 0.739\n",
            "Result: The series is stationary\n",
            "KPSS Statistic: 0.08690997658397849\n",
            "p-value: 0.1\n",
            "num lags: 17\n",
            "Critial Values:\n",
            "   10% : 0.347\n",
            "   5% : 0.463\n",
            "   2.5% : 0.574\n",
            "   1% : 0.739\n",
            "Result: The series is stationary\n",
            "KPSS Statistic: 0.13022532495745395\n",
            "p-value: 0.1\n",
            "num lags: 17\n",
            "Critial Values:\n",
            "   10% : 0.347\n",
            "   5% : 0.463\n",
            "   2.5% : 0.574\n",
            "   1% : 0.739\n",
            "Result: The series is stationary\n",
            "KPSS Statistic: 0.12300178764614464\n",
            "p-value: 0.1\n",
            "num lags: 17\n",
            "Critial Values:\n",
            "   10% : 0.347\n",
            "   5% : 0.463\n",
            "   2.5% : 0.574\n",
            "   1% : 0.739\n",
            "Result: The series is stationary\n",
            "KPSS Statistic: 0.04890911357293908\n",
            "p-value: 0.1\n",
            "num lags: 17\n",
            "Critial Values:\n",
            "   10% : 0.347\n",
            "   5% : 0.463\n",
            "   2.5% : 0.574\n",
            "   1% : 0.739\n",
            "Result: The series is stationary\n",
            "KPSS Statistic: 0.1187585847186219\n",
            "p-value: 0.1\n",
            "num lags: 17\n",
            "Critial Values:\n",
            "   10% : 0.347\n",
            "   5% : 0.463\n",
            "   2.5% : 0.574\n",
            "   1% : 0.739\n",
            "Result: The series is stationary\n",
            "KPSS Statistic: 0.1160504244817039\n",
            "p-value: 0.1\n",
            "num lags: 17\n",
            "Critial Values:\n",
            "   10% : 0.347\n",
            "   5% : 0.463\n",
            "   2.5% : 0.574\n",
            "   1% : 0.739\n",
            "Result: The series is stationary\n",
            "KPSS Statistic: 0.2670489978649401\n",
            "p-value: 0.1\n",
            "num lags: 17\n",
            "Critial Values:\n",
            "   10% : 0.347\n",
            "   5% : 0.463\n",
            "   2.5% : 0.574\n",
            "   1% : 0.739\n",
            "Result: The series is stationary\n",
            "KPSS Statistic: 0.08191844208100749\n",
            "p-value: 0.1\n",
            "num lags: 17\n",
            "Critial Values:\n",
            "   10% : 0.347\n",
            "   5% : 0.463\n",
            "   2.5% : 0.574\n",
            "   1% : 0.739\n",
            "Result: The series is stationary\n",
            "KPSS Statistic: 0.11247947829560603\n",
            "p-value: 0.1\n",
            "num lags: 17\n",
            "Critial Values:\n",
            "   10% : 0.347\n",
            "   5% : 0.463\n",
            "   2.5% : 0.574\n",
            "   1% : 0.739\n",
            "Result: The series is stationary\n"
          ]
        },
        {
          "output_type": "stream",
          "name": "stderr",
          "text": [
            "/usr/local/lib/python3.7/dist-packages/statsmodels/tsa/stattools.py:1685: FutureWarning: The behavior of using lags=None will change in the next release. Currently lags=None is the same as lags='legacy', and so a sample-size lag length is used. After the next release, the default will change to be the same as lags='auto' which uses an automatic lag length selection method. To silence this warning, either use 'auto' or 'legacy'\n",
            "  warn(msg, FutureWarning)\n",
            "/usr/local/lib/python3.7/dist-packages/statsmodels/tsa/stattools.py:1711: InterpolationWarning: p-value is greater than the indicated p-value\n",
            "  warn(\"p-value is greater than the indicated p-value\", InterpolationWarning)\n",
            "/usr/local/lib/python3.7/dist-packages/statsmodels/tsa/stattools.py:1711: InterpolationWarning: p-value is greater than the indicated p-value\n",
            "  warn(\"p-value is greater than the indicated p-value\", InterpolationWarning)\n",
            "/usr/local/lib/python3.7/dist-packages/statsmodels/tsa/stattools.py:1711: InterpolationWarning: p-value is greater than the indicated p-value\n",
            "  warn(\"p-value is greater than the indicated p-value\", InterpolationWarning)\n",
            "/usr/local/lib/python3.7/dist-packages/statsmodels/tsa/stattools.py:1711: InterpolationWarning: p-value is greater than the indicated p-value\n",
            "  warn(\"p-value is greater than the indicated p-value\", InterpolationWarning)\n",
            "/usr/local/lib/python3.7/dist-packages/statsmodels/tsa/stattools.py:1711: InterpolationWarning: p-value is greater than the indicated p-value\n",
            "  warn(\"p-value is greater than the indicated p-value\", InterpolationWarning)\n",
            "/usr/local/lib/python3.7/dist-packages/statsmodels/tsa/stattools.py:1711: InterpolationWarning: p-value is greater than the indicated p-value\n",
            "  warn(\"p-value is greater than the indicated p-value\", InterpolationWarning)\n",
            "/usr/local/lib/python3.7/dist-packages/statsmodels/tsa/stattools.py:1711: InterpolationWarning: p-value is greater than the indicated p-value\n",
            "  warn(\"p-value is greater than the indicated p-value\", InterpolationWarning)\n",
            "/usr/local/lib/python3.7/dist-packages/statsmodels/tsa/stattools.py:1711: InterpolationWarning: p-value is greater than the indicated p-value\n",
            "  warn(\"p-value is greater than the indicated p-value\", InterpolationWarning)\n",
            "/usr/local/lib/python3.7/dist-packages/statsmodels/tsa/stattools.py:1711: InterpolationWarning: p-value is greater than the indicated p-value\n",
            "  warn(\"p-value is greater than the indicated p-value\", InterpolationWarning)\n",
            "/usr/local/lib/python3.7/dist-packages/statsmodels/tsa/stattools.py:1711: InterpolationWarning: p-value is greater than the indicated p-value\n",
            "  warn(\"p-value is greater than the indicated p-value\", InterpolationWarning)\n",
            "/usr/local/lib/python3.7/dist-packages/statsmodels/tsa/stattools.py:1711: InterpolationWarning: p-value is greater than the indicated p-value\n",
            "  warn(\"p-value is greater than the indicated p-value\", InterpolationWarning)\n",
            "/usr/local/lib/python3.7/dist-packages/statsmodels/tsa/stattools.py:1711: InterpolationWarning: p-value is greater than the indicated p-value\n",
            "  warn(\"p-value is greater than the indicated p-value\", InterpolationWarning)\n",
            "/usr/local/lib/python3.7/dist-packages/statsmodels/tsa/stattools.py:1711: InterpolationWarning: p-value is greater than the indicated p-value\n",
            "  warn(\"p-value is greater than the indicated p-value\", InterpolationWarning)\n",
            "/usr/local/lib/python3.7/dist-packages/statsmodels/tsa/stattools.py:1711: InterpolationWarning: p-value is greater than the indicated p-value\n",
            "  warn(\"p-value is greater than the indicated p-value\", InterpolationWarning)\n",
            "/usr/local/lib/python3.7/dist-packages/statsmodels/tsa/stattools.py:1711: InterpolationWarning: p-value is greater than the indicated p-value\n",
            "  warn(\"p-value is greater than the indicated p-value\", InterpolationWarning)\n"
          ]
        }
      ]
    },
    {
      "cell_type": "markdown",
      "source": [
        "**Result:** ADF Null Hypothesis is rejected: Thus, data is stationary KPSS Null Hypothesis could not be rejected. Thus, data is stationary"
      ],
      "metadata": {
        "id": "Xue1UNaqwROe"
      }
    },
    {
      "cell_type": "code",
      "source": [
        "f2, (ax4, ax5) = plt.subplots(1, 2, figsize=(15, 5))\n",
        "f2.tight_layout()\n",
        "\n",
        "lag_plot(data[data.columns[0]], ax=ax4)\n",
        "ax4.set_title(data.columns[0]);\n",
        "\n",
        "lag_plot(data[data.columns[1]], ax=ax5)\n",
        "ax5.set_title(data.columns[1]);\n",
        "\n",
        "plt.show()"
      ],
      "metadata": {
        "colab": {
          "base_uri": "https://localhost:8080/",
          "height": 371
        },
        "id": "FNuUpgpYwPaY",
        "outputId": "716d36cc-7833-4f14-8c84-f503081278c2"
      },
      "execution_count": null,
      "outputs": [
        {
          "output_type": "display_data",
          "data": {
            "text/plain": [
              "<Figure size 1080x360 with 2 Axes>"
            ],
            "image/png": "[encoded data removed]"
          },
          "metadata": {
            "needs_background": "light"
          }
        }
      ]
    },
    {
      "cell_type": "markdown",
      "source": [
        "**Result:** lag plot is in confirmatory with ADF test and KPSS test\n",
        "\n",
        "**Step 2:** Let the maximum order of integration for the group of time-series be m. So, if there are two time-series and one is found to be I(1) and the other is I(2), then m = 2. If one is I(0) and the other is I(1), then m = 1, etc.\n",
        "\n",
        "**Result:** We saw above that for our case m = 1\n",
        "\n",
        "**Step 3:** Set up a VAR model in the levels of the data, regardless of the orders of integration of the various time-series. Most importantly, you must not diff() the data, no matter what you find at Step 1.\n",
        "\n",
        "**Step 4:** Determine the appropriate maximum lag length for the variables in the VAR, say p, using the usual methods. Specifically, base the choice of p on the usual information criteria, such as AIC, SIC."
      ],
      "metadata": {
        "id": "Z2lIkQhzwfcU"
      }
    },
    {
      "cell_type": "code",
      "source": [
        "# obtain the lag P for VAR\n",
        "level_data = level_data.dropna()\n",
        "model = VAR(level_data) #recall that level_data is w/o difference operation\n",
        "for i in list(range(1, 13)):\n",
        "    result = model.fit(i)\n",
        "    try:\n",
        "        print('Lag Order =', i)\n",
        "        print('AIC:\\t', result.aic)\n",
        "        print('BIC:\\t', result.bic)\n",
        "        print('FPE:\\t', result.fpe)\n",
        "        print('HQIC:\\t', result.hqic, '\\n')\n",
        "    except:\n",
        "        continue"
      ],
      "metadata": {
        "colab": {
          "base_uri": "https://localhost:8080/"
        },
        "id": "Xz0tajhrwlRX",
        "outputId": "d942f96d-6c6b-4cc5-8d12-37fdaa418eeb"
      },
      "execution_count": null,
      "outputs": [
        {
          "output_type": "stream",
          "name": "stdout",
          "text": [
            "Lag Order = 1\n",
            "AIC:\t 27.454163959244653\n",
            "BIC:\t 29.99265239533434\n",
            "FPE:\t 838578058511.0337\n",
            "HQIC:\t 28.46247321024072 \n",
            "\n",
            "Lag Order = 2\n",
            "AIC:\t 27.731093311831568\n",
            "BIC:\t 32.659332985215975\n",
            "FPE:\t 1111851637069.2798\n",
            "HQIC:\t 29.688833081479828 \n",
            "\n",
            "Lag Order = 3\n",
            "AIC:\t 27.908107357855894\n",
            "BIC:\t 35.23576286692264\n",
            "FPE:\t 1345549750723.2114\n",
            "HQIC:\t 30.81931261855242 \n",
            "\n",
            "Lag Order = 4\n",
            "AIC:\t 28.27027364694253\n",
            "BIC:\t 38.00707498473526\n",
            "FPE:\t 1985653171483.3037\n",
            "HQIC:\t 32.1390069674233 \n",
            "\n",
            "Lag Order = 5\n",
            "AIC:\t 28.38351739824246\n",
            "BIC:\t 40.539260567853276\n",
            "FPE:\t 2326633730476.4067\n",
            "HQIC:\t 33.21386920204987 \n",
            "\n",
            "Lag Order = 6\n",
            "AIC:\t 28.307642241118895\n",
            "BIC:\t 42.892189878489035\n",
            "FPE:\t 2310905911857.482\n",
            "HQIC:\t 34.103731068133925 \n",
            "\n",
            "Lag Order = 7\n",
            "AIC:\t 28.24937492864029\n",
            "BIC:\t 45.272656932877695\n",
            "FPE:\t 2407735605854.9326\n",
            "HQIC:\t 35.01534769972405 \n",
            "\n",
            "Lag Order = 8\n",
            "AIC:\t 28.300734785750485\n",
            "BIC:\t 47.77274895707474\n",
            "FPE:\t 2906417950842.8896\n",
            "HQIC:\t 36.04076707053993 \n",
            "\n",
            "Lag Order = 9\n",
            "AIC:\t 28.23906154716567\n",
            "BIC:\t 50.16987423259267\n",
            "FPE:\t 3281492552797.7437\n",
            "HQIC:\t 36.95735783506875 \n",
            "\n",
            "Lag Order = 10\n",
            "AIC:\t 28.11157055306635\n",
            "BIC:\t 52.51131729994717\n",
            "FPE:\t 3670505524495.964\n",
            "HQIC:\t 37.81236452750288 \n",
            "\n",
            "Lag Order = 11\n",
            "AIC:\t 27.90937428717379\n",
            "BIC:\t 54.78826050470403\n",
            "FPE:\t 4082320770611.0996\n",
            "HQIC:\t 38.59692910310883 \n",
            "\n",
            "Lag Order = 12\n",
            "AIC:\t 27.555874436478852\n",
            "BIC:\t 56.92417606529689\n",
            "FPE:\t 4247323288837.652\n",
            "HQIC:\t 39.23448300129644 \n",
            "\n"
          ]
        },
        {
          "output_type": "stream",
          "name": "stderr",
          "text": [
            "/usr/local/lib/python3.7/dist-packages/statsmodels/tsa/base/tsa_model.py:219: ValueWarning: A date index has been provided, but it has no associated frequency information and so will be ignored when e.g. forecasting.\n",
            "  ' ignored when e.g. forecasting.', ValueWarning)\n"
          ]
        }
      ]
    },
    {
      "cell_type": "markdown",
      "source": [
        "**Result:** The lag-order p = 1 on the basis of Akaike Information Criterion (AIC)\n",
        "\n",
        "**Step 5:** Make sure that the VAR is well-specified. For example, ensure that there is no serial correlation in the residuals. If need be, increase p until any autocorrelation issues are resolved."
      ],
      "metadata": {
        "id": "o47Y0vtywpx3"
      }
    },
    {
      "cell_type": "code",
      "source": [
        "model = VAR(train)\n",
        "model_fitted = model.fit(1)"
      ],
      "metadata": {
        "colab": {
          "base_uri": "https://localhost:8080/"
        },
        "id": "Vs02rcSzwneI",
        "outputId": "99ee4db3-92e7-4e83-eb90-727effcf3fe4"
      },
      "execution_count": null,
      "outputs": [
        {
          "output_type": "stream",
          "name": "stderr",
          "text": [
            "/usr/local/lib/python3.7/dist-packages/statsmodels/tsa/base/tsa_model.py:219: ValueWarning: A date index has been provided, but it has no associated frequency information and so will be ignored when e.g. forecasting.\n",
            "  ' ignored when e.g. forecasting.', ValueWarning)\n"
          ]
        }
      ]
    },
    {
      "cell_type": "markdown",
      "source": [
        "**Check for Serial Correlation of Residuals (Errors) using Durbin Watson Statistic**\n",
        "\n",
        "The value of this statistic can vary from 0 to 4. The closer it is to 2, there is less significant serial correlation. The closer it is to 0, there is a positive serial correlation, and being close to 4 implies negative serial correlation."
      ],
      "metadata": {
        "id": "U1HU0_1hw0DV"
      }
    },
    {
      "cell_type": "code",
      "source": [
        "from statsmodels.stats.stattools import durbin_watson\n",
        "out = durbin_watson(model_fitted.resid)\n",
        "\n",
        "for col, val in zip(data.columns, out):\n",
        "    print(col, ':', round(val, 2))"
      ],
      "metadata": {
        "colab": {
          "base_uri": "https://localhost:8080/"
        },
        "id": "mkzgc0LywvLv",
        "outputId": "79b96aa4-b08d-4d68-f248-30a3da7b2b58"
      },
      "execution_count": null,
      "outputs": [
        {
          "output_type": "stream",
          "name": "stdout",
          "text": [
            "ADA-PERP : 2.0\n",
            "ATOM-PERP : 1.98\n",
            "AVAX-PERP : 2.01\n",
            "BCH-PERP : 2.06\n",
            "BNB-PERP : 2.03\n",
            "BTC-PERP : 2.06\n",
            "DOT-PERP : 2.02\n",
            "ETH-PERP : 2.04\n",
            "FTM-PERP : 2.0\n",
            "LTC-PERP : 2.12\n",
            "LUNA-PERP : 1.94\n",
            "MATIC-PERP : 2.03\n",
            "SOL-PERP : 2.01\n",
            "WAVES-PERP : 2.05\n",
            "XRP-PERP : 2.05\n"
          ]
        }
      ]
    },
    {
      "cell_type": "markdown",
      "source": [
        "**Result:** There is no significant correlation between in the residuals\n",
        "\n",
        "**Step 6:** If two or more of the time-series have the same order of integration, at Step 1, then test to see if they are cointegrated, preferably using Johansen’s methodology (based on your VAR) for a reliable result."
      ],
      "metadata": {
        "id": "fxJlp5c-xPNv"
      }
    },
    {
      "cell_type": "code",
      "source": [
        "# I could not perform Johansen's test. Instead I check for co-integration using t-statistics (author's note)\n",
        "\n",
        "import statsmodels.tsa.stattools as ts \n",
        "result = ts.coint(data[data.columns[0]], data[data.columns[1]])\n",
        "print(result)"
      ],
      "metadata": {
        "colab": {
          "base_uri": "https://localhost:8080/"
        },
        "id": "5-B3MwY_xQ-W",
        "outputId": "2c551a64-84f6-448d-b8c7-13258936c607"
      },
      "execution_count": null,
      "outputs": [
        {
          "output_type": "stream",
          "name": "stdout",
          "text": [
            "(-6.39757072905389, 2.1494044471636264e-07, array([-3.92636618, -3.35273865, -3.05596374]))\n"
          ]
        }
      ]
    },
    {
      "cell_type": "markdown",
      "source": [
        "**Result:** The p-value (tuple's middle element) < 0.05. Thus rejecting the null hypothesis, they are cointegrated.\n",
        "\n",
        "**Step 7:** No matter what you conclude about cointegration at Step 6, this is not going to affect what follows. It just provides a possible cross-check on the validity of your results at the very end of the analysis.\n",
        "\n",
        "**Step 8:** Now take the preferred VAR model and add in m additional lags of each of the variables into each of the equations."
      ],
      "metadata": {
        "id": "uhTVVtHXxWCy"
      }
    },
    {
      "cell_type": "code",
      "source": [
        "model = VAR(train)\n",
        "model_fitted = model.fit(1)\n",
        "#get the lag order\n",
        "lag_order = model_fitted.k_ar\n",
        "print(lag_order)"
      ],
      "metadata": {
        "colab": {
          "base_uri": "https://localhost:8080/"
        },
        "id": "Ke_MFxWuxUaI",
        "outputId": "95b6fd9f-0c6c-4b5c-d04f-3eeddce65926"
      },
      "execution_count": null,
      "outputs": [
        {
          "output_type": "stream",
          "name": "stdout",
          "text": [
            "1\n"
          ]
        },
        {
          "output_type": "stream",
          "name": "stderr",
          "text": [
            "/usr/local/lib/python3.7/dist-packages/statsmodels/tsa/base/tsa_model.py:219: ValueWarning: A date index has been provided, but it has no associated frequency information and so will be ignored when e.g. forecasting.\n",
            "  ' ignored when e.g. forecasting.', ValueWarning)\n"
          ]
        }
      ]
    },
    {
      "cell_type": "markdown",
      "source": [
        "**Step 9** and **Step 10:** Test for Granger non-causality. It’s essential that you don’t include the coefficients for the ‘extra’ m lags when you perform the tests. They are there just to fix up the asymptotics."
      ],
      "metadata": {
        "id": "eTWLx3hHxjBG"
      }
    },
    {
      "cell_type": "code",
      "source": [
        "data.info()"
      ],
      "metadata": {
        "colab": {
          "base_uri": "https://localhost:8080/"
        },
        "id": "PjEXmzz7L2F0",
        "outputId": "d83eab0a-bd5d-471f-d4c4-253263dc9c8e"
      },
      "execution_count": null,
      "outputs": [
        {
          "output_type": "stream",
          "name": "stdout",
          "text": [
            "<class 'pandas.core.frame.DataFrame'>\n",
            "DatetimeIndex: 370 entries, 2021-03-19 18:00:00 to 2022-03-18 18:00:00\n",
            "Data columns (total 15 columns):\n",
            " #   Column      Non-Null Count  Dtype  \n",
            "---  ------      --------------  -----  \n",
            " 0   ADA-PERP    370 non-null    float64\n",
            " 1   ATOM-PERP   370 non-null    float64\n",
            " 2   AVAX-PERP   370 non-null    float64\n",
            " 3   BCH-PERP    370 non-null    float64\n",
            " 4   BNB-PERP    370 non-null    float64\n",
            " 5   BTC-PERP    370 non-null    float64\n",
            " 6   DOT-PERP    370 non-null    float64\n",
            " 7   ETH-PERP    370 non-null    float64\n",
            " 8   FTM-PERP    370 non-null    float64\n",
            " 9   LTC-PERP    370 non-null    float64\n",
            " 10  LUNA-PERP   370 non-null    float64\n",
            " 11  MATIC-PERP  370 non-null    float64\n",
            " 12  SOL-PERP    370 non-null    float64\n",
            " 13  WAVES-PERP  370 non-null    float64\n",
            " 14  XRP-PERP    370 non-null    float64\n",
            "dtypes: float64(15)\n",
            "memory usage: 46.2 KB\n"
          ]
        }
      ]
    },
    {
      "cell_type": "markdown",
      "source": [
        "Weed out the columns and return a dictionary {instrument_i:coefficient_i} for the prescribed data slice."
      ],
      "metadata": {
        "id": "Dqdz5gQjTKL1"
      }
    },
    {
      "cell_type": "code",
      "source": [
        "def weed_out(data, bad, det_order = -1, k_ar_diff = 0):\n",
        "  n = data.shape[1] # number of trading instruments\n",
        "  if n <= 2 or ' '.join(list(data.columns)) in bad:\n",
        "    return False # if there are too few columns or this column is already tried\n",
        "\n",
        "  coint = coint_johansen(data, det_order = det_order, k_ar_diff = k_ar_diff) # get the cointegration tests\n",
        "  compare1 = coint.lr1[0] >= coint.cvt[0, 1] # trace statistics test\n",
        "  compare2 = coint.lr2[0] >= coint.cvm[0, 1] # eigenvalue test\n",
        "\n",
        "  model = VECM(data, coint_rank = 2, deterministic = \"n\", k_ar_diff = k_ar_diff).fit() # cointegration model\n",
        "  \n",
        "  beta = list(flatten(model.beta)) # cointegration model's beta values\n",
        "  beta_dict = {model.names[i]: beta[i] for i in range(n)}\n",
        "\n",
        "  stderr = list(flatten(model.stderr_beta))\n",
        "  diff = {model.names[i]:abs(beta[i]) - 2 * abs(stderr[i]) for i in range(len(model.names))}\n",
        "\n",
        "  min_diff = min(diff.values())\n",
        "\n",
        "  if min_diff >= 0 and compare1 and compare2:\n",
        "    return beta_dict # no problematic column\n",
        "  else:\n",
        "    for instrument in diff: # test each instrument seperately\n",
        "      if diff[instrument] < 0: # if difference < 0 \n",
        "        copy = data.copy().drop(columns=instrument) # get a copy of the data without the problematic column\n",
        "        alt = weed_out(copy, bad) # run again\n",
        "        if alt != False:\n",
        "          return alt\n",
        "        bad.add(' '.join(copy.columns))\n",
        "  print('No result for', data.columns)\n",
        "  return False"
      ],
      "metadata": {
        "id": "1F0fma1US26O"
      },
      "execution_count": null,
      "outputs": []
    },
    {
      "cell_type": "markdown",
      "source": [
        "Find the cointegration coefficients for a slice of a data frame."
      ],
      "metadata": {
        "id": "ZcZzJfDdTFQI"
      }
    },
    {
      "cell_type": "code",
      "source": [
        "def get_coefficients(data, start, end, bad, det_order = -1, k_ar_diff = 0):\n",
        "  return weed_out(data.iloc[start:end, :].copy(deep=True), bad)"
      ],
      "metadata": {
        "id": "c0ETVS9oTI8U"
      },
      "execution_count": null,
      "outputs": []
    },
    {
      "cell_type": "markdown",
      "source": [
        "I wanted to ignore the frequency warning because it hid the necessary information I wanted to see. This is ideally to be removed."
      ],
      "metadata": {
        "id": "IIa1yrMfTAsv"
      }
    },
    {
      "cell_type": "code",
      "source": [
        "import warnings\n",
        "warnings.filterwarnings(\"ignore\")"
      ],
      "metadata": {
        "id": "tTXjOdXjS7ko"
      },
      "execution_count": null,
      "outputs": []
    },
    {
      "cell_type": "markdown",
      "source": [
        "Create the report of the source data given the lengths of training, testing, and the repetition interval. Report the evolution of the fund given the initial capital."
      ],
      "metadata": {
        "id": "rzYVOcVMTRQJ"
      }
    },
    {
      "cell_type": "code",
      "source": [
        "import math\n",
        "\n",
        "length_of_training = 45\n",
        "length_of_testing = 1\n",
        "\n",
        "capital = 1000000\n",
        "\n",
        "instruments = list(data.columns)\n",
        "n = len(instruments)\n",
        "m = len(data.iloc[:, 0])\n",
        "\n",
        "# The excel draft.\n",
        "excel = {'# of training data': [],\n",
        "          'Training begins': [],\n",
        "          'Training ends\\nTesting begins': [],\n",
        "          'Testing ends': [],\n",
        "          'Toplam maliyet': [],\n",
        "          'Kasa': [],\n",
        "          'Portföy adedi': [],\n",
        "          'Kullanılan para': [],\n",
        "          'Atıl Para': [],\n",
        "          'Portföy Açılış Endeksi': [],\n",
        "          'Portföy Kapanış Endeksi': [],\n",
        "          'Fark': [],\n",
        "          'P&L': [],\n",
        "          'P&L%': [],\n",
        "          'RiskOptima Portföy Değeri': []\n",
        "          }\n",
        "\n",
        "# Add each instrument's special columns.\n",
        "# These are to be turned to multicolumns.\n",
        "extra_cols = ['Katsayı', 'Portföy Açma', 'Portföy Kapama', 'Maliyet']\n",
        "for col in extra_cols:\n",
        "  for instrument in instruments:\n",
        "    excel[col + ' ' + instrument] = list()\n",
        "\n",
        "entry_values = [1.1]#, 1.3, 1.4, 1.5, 1.6, 1.7, 1.8, 1.9, 2.0]\n",
        "\n",
        "iteration = 40\n",
        "# Get the coefficients, calculate the opening indices.\n",
        "# If the last index is positive, then invert the coefficients, thus the opening indices.\n",
        "# If the last index is below the entry*std_dev line then buy.\n",
        "# TODO: The code currently works with one week by breaking after the first iteration.\n",
        "#       This needs to be enhanced to multiple weeks.\n",
        "for entry in entry_values:\n",
        "  for length_of_testing in range(1, 2):\n",
        "    #f, axs = plt.subplots(4, figsize=(10, 10))\n",
        "    profit_losses = []\n",
        "    trades = 0\n",
        "    for i in range(0, m - length_of_training - length_of_testing - 1, length_of_testing):\n",
        "      if i == iteration*length_of_testing:\n",
        "        break\n",
        "      # Calculate the coefficients.\n",
        "      named_coefficients = get_coefficients(data, i, i + length_of_training, set()) # the coefficient dictionary\n",
        "      if type(named_coefficients) == bool:\n",
        "        j = i\n",
        "        while type(named_coefficients) == bool and j > 0:\n",
        "          j = j - 1\n",
        "          #print('No valid models for the training period', j, 'to', i + length_of_training)\n",
        "          named_coefficients = get_coefficients(data, j, i + length_of_training, set()) # the coefficient dictionary\n",
        "          continue\n",
        "        if j == 0:\n",
        "          #print('No valid models for the training period starting at', i)\n",
        "          #print('--------------------------------------------------------')\n",
        "          result = {'# of training data': length_of_training,\n",
        "            'Training begins': level_data.index[i],\n",
        "            'Training ends\\nTesting begins': level_data.index[i + length_of_training],\n",
        "            'Testing ends': level_data.index[i + length_of_training + length_of_testing],\n",
        "            'Toplam maliyet': 0,\n",
        "            'Kasa': capital,\n",
        "            'Portföy adedi': 0,\n",
        "            'Kullanılan para': 0,\n",
        "            'Atıl Para': capital,\n",
        "            'Portföy Açılış Endeksi': opening_index,\n",
        "            'Portföy Kapanış Endeksi': closing_index,\n",
        "            'Fark': 0,\n",
        "            'P&L': 0,\n",
        "            'P&L%': 0, # ratio of profit or loss to the overall money\n",
        "            'RiskOptima Portföy Değeri': capital\n",
        "          }\n",
        "          for column_name in result.keys(): # move the results to excel\n",
        "            excel[column_name].append(result[column_name])\n",
        "\n",
        "          extra_cols_dict = {'Katsayı': coefficients, 'Portföy Açma': opening, 'Portföy Kapama': closing, 'Maliyet': cost_of_opening}\n",
        "          for col in extra_cols_dict:\n",
        "            for instrument in instruments: # for those columns that are to be turned into multicolumns, appending is somewhat manual\n",
        "              excel[col + ' ' + instrument].append(extra_cols_dict[col][instruments.index(instrument)])\n",
        "\n",
        "          capital = result['RiskOptima Portföy Değeri'] # the new capital\n",
        "          continue\n",
        "\n",
        "      coefficients = [named_coefficients.get(instrument, 0) for instrument in instruments] # copy the dictionary, setting 0 those dropped\n",
        "      print('Entry =', entry, 'length =', length_of_testing, 'day', i, 'coefficients:', coefficients)\n",
        "      opening_indices = []\n",
        "      for j in range(i, i + length_of_training):\n",
        "        opening = data.iloc[j, :] # prices\n",
        "        opening_indices.append(numpy.dot(opening, coefficients)) # calculate the account opening index\n",
        "      std_dev = numpy.std(opening_indices)\n",
        "      mean = numpy.mean(opening_indices)\n",
        "      if opening_indices[-1] > mean:\n",
        "        #print(\"Inverting the coefficients at iter =\", i)\n",
        "        coefficients = [-c for c in coefficients]\n",
        "        opening_indices = [-o for o in opening_indices]\n",
        "      mean = numpy.mean(opening_indices)\n",
        "\n",
        "      #for j in range(len(opening_indices)):\n",
        "      #  print('Day', j, ':', opening_indices[j])\n",
        "\n",
        "      if i == iteration - 1:\n",
        "        plt.plot(opening_indices)\n",
        "        mean_line = [mean for j in range(len(opening_indices))]\n",
        "        plt.plot(mean_line)\n",
        "        bottom_line = [z - entry*std_dev for z in mean_line]\n",
        "        plt.plot(bottom_line)\n",
        "        top_line = [z + entry*std_dev for z in mean_line]\n",
        "        plt.plot(top_line)\n",
        "        plt.show()\n",
        "        print(entry, 'times the standard deviation:', entry*std_dev)\n",
        "      \n",
        "      # Decide whether the trade will take place.\n",
        "      if opening_indices[-1] >= mean-entry*std_dev:\n",
        "        print('No trade at iter =', i)\n",
        "        #print('--------------------------------------------------------')\n",
        "        result = {'# of training data': length_of_training,\n",
        "          'Training begins': level_data.index[i],\n",
        "          'Training ends\\nTesting begins': level_data.index[i + length_of_training],\n",
        "          'Testing ends': level_data.index[i + length_of_training + length_of_testing],\n",
        "          'Toplam maliyet': 0,\n",
        "          'Kasa': capital,\n",
        "          'Portföy adedi': 0,\n",
        "          'Kullanılan para': 0,\n",
        "          'Atıl Para': capital,\n",
        "          'Portföy Açılış Endeksi': opening_index,\n",
        "          'Portföy Kapanış Endeksi': closing_index,\n",
        "          'Fark': 0,\n",
        "          'P&L': 0,\n",
        "          'P&L%': 0, # ratio of profit or loss to the overall money\n",
        "          'RiskOptima Portföy Değeri': capital\n",
        "          }\n",
        "        for column_name in result.keys(): # move the results to excel\n",
        "          excel[column_name].append(result[column_name])\n",
        "\n",
        "        extra_cols_dict = {'Katsayı': coefficients, 'Portföy Açma': opening, 'Portföy Kapama': closing, 'Maliyet': cost_of_opening}\n",
        "        for col in extra_cols_dict:\n",
        "          for instrument in instruments: # for those columns that are to be turned into multicolumns, appending is somewhat manual\n",
        "            excel[col + ' ' + instrument].append(extra_cols_dict[col][instruments.index(instrument)])\n",
        "\n",
        "        capital = result['RiskOptima Portföy Değeri'] # the new capital\n",
        "        continue\n",
        "\n",
        "      opening = level_data.iloc[i + length_of_training, :] # prices at the day testing begins\n",
        "\n",
        "      cost_of_opening = [opening[i] * abs(coefficients[i]) for i in range(n)] # the cost of opening one account for each instrument\n",
        "      cost = sum(cost_of_opening) # the total cost of opening an account\n",
        "\n",
        "      while cost > 100:\n",
        "        coefficients = [c / 10 for c in coefficients]\n",
        "        cost_of_opening = [c / 10 for c in cost_of_opening]\n",
        "        cost = cost / 10\n",
        "\n",
        "      opening_index = numpy.dot(opening, coefficients) # calculate the account opening index\n",
        "\n",
        "      closing = level_data.iloc[i + length_of_training + length_of_testing, :] # prices at the day testing ends\n",
        "      closing_index = numpy.dot(closing, coefficients) # calculate the account closing index\n",
        "\n",
        "      difference = closing_index - opening_index # profit or loss per account\n",
        "\n",
        "      count = capital // cost # number of accounts that can be created\n",
        "\n",
        "      # Calculate profit or loss.\n",
        "      profit_and_loss = difference * count # profit or loss multiplied with the number of accounts\n",
        "      #print('PL:', profit_and_loss)\n",
        "      profit_losses.append(profit_and_loss)\n",
        "      trades = trades + 1\n",
        "      #print('--------------------------------------------------------')\n",
        "\n",
        "      # Record the results in a dictionary to be appended to the respectice column in excel.\n",
        "      result = {'# of training data': length_of_training,\n",
        "                'Training begins': level_data.index[i],\n",
        "                'Training ends\\nTesting begins': level_data.index[i + length_of_training],\n",
        "                'Testing ends': level_data.index[i + length_of_training + length_of_testing],\n",
        "                'Toplam maliyet': cost,\n",
        "                'Kasa': capital,\n",
        "                'Portföy adedi': count,\n",
        "                'Kullanılan para': count * cost,\n",
        "                'Atıl Para': capital - count * cost,\n",
        "                'Portföy Açılış Endeksi': opening_index,\n",
        "                'Portföy Kapanış Endeksi': closing_index,\n",
        "                'Fark': difference,\n",
        "                'P&L': profit_and_loss,\n",
        "                'P&L%': profit_and_loss / capital * 100, # ratio of profit or loss to the overall money\n",
        "                'RiskOptima Portföy Değeri': capital + profit_and_loss\n",
        "                }\n",
        "\n",
        "      for column_name in result.keys(): # move the results to excel\n",
        "        excel[column_name].append(result[column_name])\n",
        "\n",
        "      extra_cols_dict = {'Katsayı': coefficients, 'Portföy Açma': opening, 'Portföy Kapama': closing, 'Maliyet': cost_of_opening}\n",
        "      for col in extra_cols_dict:\n",
        "        for instrument in instruments: # for those columns that are to be turned into multicolumns, appending is somewhat manual\n",
        "          excel[col + ' ' + instrument].append(extra_cols_dict[col][instruments.index(instrument)])\n",
        "\n",
        "      capital = result['RiskOptima Portföy Değeri'] # the new capital\n",
        "    if len(profit_losses) > 0:\n",
        "      mean_pl = numpy.mean(profit_losses)\n",
        "      std_pl = numpy.std(profit_losses)\n",
        "      sharpe = mean_pl / std_pl * math.sqrt(360)\n",
        "      print('Sharpe ratio for entry value =', entry,\n",
        "            'and testing length =', length_of_testing, ':',\n",
        "            sharpe, 'where', trades, 'number of trades occured.')\n",
        "      #axs[0].plot(sharpe)\n",
        "      #axs[1].plot(mean_pl)\n",
        "      #axs[2].plot(std_pl)\n",
        "      #axs[3].plot(trades)\n",
        "      #plt.show()\n",
        "\n",
        "pandas.DataFrame(excel).to_excel('report.xlsx') # write to excel\n",
        "\n",
        "plt.plot(excel['Testing ends'], excel['Kasa'])\n",
        "plt.xticks(rotation = 90)\n",
        "plt.savefig('graph.png')\n",
        "plt.show()\n",
        "\n",
        "wb = openpyxl.load_workbook('report.xlsx')\n",
        "ws = wb.active\n",
        "img = openpyxl.drawing.image.Image('graph.png')\n",
        "cols = 15 + 4 * n\n",
        "img.anchor = chr(ord('A') + (cols - 25) // 25) + chr(ord('A') + cols % 25) + '1'\n",
        "ws.add_image(img)\n",
        "wb.save('out.xlsx')"
      ],
      "metadata": {
        "id": "uDy1RKU5Zaxr",
        "outputId": "c720a04a-56f9-43a5-b8cb-9f850f78d450",
        "colab": {
          "base_uri": "https://localhost:8080/",
          "height": 1000
        }
      },
      "execution_count": null,
      "outputs": [
        {
          "output_type": "stream",
          "name": "stdout",
          "text": [
            "Entry = 1.1 length = 1 day 0 coefficients: [1.0000000000000002, 1.7720779103755883e-15, 1.8994770271913716e-18, 1.0, -0.03222842086487716, 0, -0.5258905669868538, 0, 0, 0, 0, 0, 0, 0, 0]\n",
            "No trade at iter = 0\n",
            "Entry = 1.1 length = 1 day 1 coefficients: [0.9999999999999999, 3.1125527014264175e-16, 1.7526758051242802e-20, 1.0, -0.031231921467565163, 0, -0.4658184097347496, 0, 0, 0, 0, 0, 0, 0, 0]\n",
            "No trade at iter = 1\n",
            "Entry = 1.1 length = 1 day 2 coefficients: [1.0, -3.196709826065019e-16, -8.2893274916955545e-19, 1.0, -0.03269439528063312, 0, -0.4476017463609081, 0, 0, 0, 0, 0, 0, 0, 0]\n",
            "Entry = 1.1 length = 1 day 3 coefficients: [1.0000000000000002, 2.4958879205186863e-16, 1.7084386242339112e-18, 1.0, -0.03313141960869305, 0, -0.46598934651135654, 0, 0, 0, 0, 0, 0, 0, 0]\n",
            "Entry = 1.1 length = 1 day 4 coefficients: [1.0, 5.342949894776149e-16, 5.197524166000595e-18, 1.0, 0, 0, 0, 0, 0, 0, 0, 0, 0, 0, 0]\n",
            "Entry = 1.1 length = 1 day 5 coefficients: [1.0, 1.3434606755567045e-15, 1.34869387521228e-18, 1.0, -0.03817441685355123, 0, -0.814772741227702, 0, 0, 0, 0, 0, 0, 0, 0]\n",
            "Entry = 1.1 length = 1 day 6 coefficients: [1.0, 2.5297755251127616e-15, 7.13884669715086e-18, 1.0, -0.013010805820707157, 0, 0, 0, 0, 0, 0, 0, -0.9343245555057341, 0, 0]\n",
            "No trade at iter = 6\n",
            "Entry = 1.1 length = 1 day 7 coefficients: [1.0, -2.7331594276345056e-17, -9.251109344649242e-18, 1.0, 0, 0, 0, 0, 0, 0, 0, 0, 0, 0, 0]\n",
            "No trade at iter = 7\n",
            "Entry = 1.1 length = 1 day 8 coefficients: [1.0, 7.73101504561236e-16, 2.2933667780931177e-20, 1.0000000000000002, -0.027701802763293502, 0, -0.6755726026294219, 0, 0, 0, 0, 0, 0, 0, 0]\n",
            "No trade at iter = 8\n",
            "Entry = 1.1 length = 1 day 9 coefficients: [0.9999999999999999, -7.683492024668774e-16, 6.05093124509046e-19, 1.0, -0.02879495872392779, 0, -0.6748925483763192, 0, 0, 0, 0, 0, 0, 0, 0]\n",
            "No trade at iter = 9\n",
            "Entry = 1.1 length = 1 day 10 coefficients: [1.0, -6.325434944161104e-16, -3.9431295532030096e-20, 1.0, -0.028348830260772038, 0, -0.676798276964128, 0, 0, 0, 0, 0, 0, 0, 0]\n",
            "Entry = 1.1 length = 1 day 11 coefficients: [0.9999999999999999, -1.0324704071927705e-15, -1.4673516414789294e-18, 1.0, 0, 0, 0, 0, 0, 0, 0, 0, 0, 0, 0]\n",
            "Entry = 1.1 length = 1 day 12 coefficients: [1.0, 3.974797168557203e-16, -1.0561135982349361e-18, 1.0, -0.020962091699478252, 0, -0.7682750892231927, 0, 0, 0, 0, 0, 0, 0, 0]\n",
            "Entry = 1.1 length = 1 day 13 coefficients: [1.0, -3.623305471868605e-16, -5.002941355171924e-18, 1.0000000000000002, 0, 0, -0.0161173822961501, 0, 0, 0, 0, 0, 0, 0, 0]\n",
            "Entry = 1.1 length = 1 day 14 coefficients: [1.0, -2.9581705476244053e-16, 9.622096887840336e-18, 1.0, 0, 0, 0, 0, 0, 0, 0, 0, -0.05728957924937359, 0, 0]\n",
            "No trade at iter = 14\n",
            "Entry = 1.1 length = 1 day 15 coefficients: [0.9999999999999999, 1.8736032558411905e-16, 1.0866784492362132e-17, 1.0, 0, 0, 0, 0, 0, 0, 0, 0, -0.05934907824336296, -0.6452816902668204, 0]\n",
            "Entry = 1.1 length = 1 day 16 coefficients: [1.0, -8.702884414568609e-16, 2.1866866023172013e-19, 1.0, 0, 0, 0, 0, 0, 0, 0, -0.029339291298662244, 0, 0, -1.0791315104099743]\n",
            "No trade at iter = 16\n",
            "Entry = 1.1 length = 1 day 17 coefficients: [1.0, 3.064437109265343e-16, -2.0176826814121458e-18, 1.0, 0, 0, 0, 0, 0, 0, 0, -0.05514930178014907, 0, 0, -0.8872591454632842]\n",
            "Entry = 1.1 length = 1 day 18 coefficients: [1.0, -2.417754645646464e-16, 3.3208899621407535e-17, 0.9999999999999999, 0, 0, 0, 0, 0, 0, 0, 0, 0, 0, 0]\n",
            "No trade at iter = 18\n",
            "Entry = 1.1 length = 1 day 19 coefficients: [1.0, -1.263350286718806e-16, 1.8249491482943572e-19, 1.0, 0, 0, -0.012392946709398327, 0, 0, 0, 0, 0, 0, 0, 0]\n",
            "No trade at iter = 19\n",
            "Entry = 1.1 length = 1 day 20 coefficients: [1.0, 1.8830623231414317e-16, -1.8768623585631755e-17, 1.0, 0, 0, -0.011451381325373372, 0, 0, 0, 0, 0, 0, 0, 0]\n",
            "No trade at iter = 20\n",
            "Entry = 1.1 length = 1 day 21 coefficients: [1.0, 4.1725770993561635e-16, 5.4263639569536135e-18, 0.9999999999999998, -0.039186542457543674, 0, 0, 0, 0, 0, 0, 0, -0.5091580062321283, 0, 0]\n",
            "No trade at iter = 21\n",
            "Entry = 1.1 length = 1 day 22 coefficients: [1.0000000000000002, -2.956103750181578e-16, 6.507808230708884e-18, 1.0000000000000002, 0, 0, 0, 0, 0, 0, 0, 0, -0.035669127912096726, 0, 0]\n",
            "Entry = 1.1 length = 1 day 23 coefficients: [1.0, -1.8959362638736408e-16, 1.1469922433982628e-17, 0.9999999999999999, 0, 0, -0.016246687840835262, 0, 0, 0, 0, 0, 0, 0, 0]\n",
            "Entry = 1.1 length = 1 day 24 coefficients: [1.0, -2.0521031866779259e-16, 6.28678613996447e-18, 1.0, 0, 0, -0.013202916370343683, 0, 0, 0, 0, 0, 0, 0, 0]\n",
            "No trade at iter = 24\n",
            "Entry = 1.1 length = 1 day 25 coefficients: [1.0, -1.4881732364050454e-16, -9.265071167197963e-18, 1.0000000000000002, 0, 0, 0, 0, 0, 0, 0, 0, 0, 0, 0]\n",
            "No trade at iter = 25\n",
            "Entry = 1.1 length = 1 day 26 coefficients: [1.0, -4.0385167579588716e-17, -1.420523627620782e-18, 1.0, 0, 0, -0.017191443245267567, 0, 0, 0, 0, -0.8579924212444496, 0, 0, 0]\n",
            "No trade at iter = 26\n",
            "Entry = 1.1 length = 1 day 27 coefficients: [1.0, 1.835548246321373e-16, 6.889149253876724e-18, 1.0, 0, 0, -0.013380771717422517, 0, 0, 0, 0, 0, 0, 0, 0]\n",
            "No trade at iter = 27\n",
            "Entry = 1.1 length = 1 day 28 coefficients: [1.0, -2.50090820394798e-16, 1.76289500421052e-18, 1.0000000000000002, 0, 0, 0, 0, 0, 0, 0, 0, 0, 0, 0]\n",
            "No trade at iter = 28\n",
            "Entry = 1.1 length = 1 day 29 coefficients: [1.0, 6.662740529460858e-16, 4.120367322208048e-18, 1.0, 0.14971451537806668, 0, -2.546493202203692, 0, 0, 0, 0, 0, 0, 0, 0]\n",
            "No trade at iter = 29\n",
            "Entry = 1.1 length = 1 day 30 coefficients: [1.0, 4.808624658902683e-16, -9.521851580910533e-19, 1.0, -0.07931754897757747, 0, 0.33968362913477995, 0, 0, 0, 0, 0, 0, 0, 0]\n",
            "No trade at iter = 30\n",
            "Entry = 1.1 length = 1 day 31 coefficients: [1.0, 4.282360283062742e-16, 1.0712064447281633e-17, 0.9999999999999999, -0.06657605765982233, 0, 0, 0, 0, 0, 0, 0, 0.23814534457040698, 0, 0]\n",
            "No trade at iter = 31\n",
            "Entry = 1.1 length = 1 day 32 coefficients: [0.9999999999999999, 9.457465021264932e-17, -1.0520161874003094e-17, 1.0, -0.06077043578899652, 0, 0, 0, 0, 0, 0, 0, 0.11736887270216516, 0, 0]\n",
            "No trade at iter = 32\n",
            "Entry = 1.1 length = 1 day 33 coefficients: [1.0, -6.739401538685311e-17, 8.256932146461611e-18, 1.0, -0.06806904758011452, 0, 0.2537424691281814, 0, 0, 0, 0, 0, 0, 0, 0]\n",
            "No trade at iter = 33\n",
            "Entry = 1.1 length = 1 day 34 coefficients: [1.0, 3.621712684659583e-16, 3.484955756265088e-19, 1.0, 0, 0, 0.12418609758457731, 0, 0, 0, 0, 0, -3.811291477792329, 0, 0]\n",
            "No trade at iter = 34\n",
            "Entry = 1.1 length = 1 day 35 coefficients: [0.9999999999999999, 1.8249196970900368e-16, -9.001753574186733e-18, 1.0, -0.10655293744302831, 0, 0.5821632645180014, 0, 0, 0, 0, 0, 0, 0, 0]\n",
            "No trade at iter = 35\n",
            "Entry = 1.1 length = 1 day 36 coefficients: [1.0, -2.202088407463901e-16, -9.015978602941023e-18, 0.9999999999999999, -0.10247395713190509, 0, 0.6397558219546329, 0, 0, 0, 0, 0, 0, 0, 0]\n",
            "No trade at iter = 36\n",
            "Entry = 1.1 length = 1 day 37 coefficients: [1.0, -1.597111016766345e-17, -4.491448313007874e-18, 1.0, -0.10499503500703583, 0, 0.675925411885963, 0, 0, 0, 0, 0, 0, 0, 0]\n",
            "No trade at iter = 37\n",
            "Entry = 1.1 length = 1 day 38 coefficients: [1.0, 5.540305124214696e-16, 5.188512635030668e-18, 1.0, 0, 0, 0, 0, -0.09179631160480961, 0, 0, 0, 0, 0, 0]\n",
            "No trade at iter = 38\n",
            "Entry = 1.1 length = 1 day 39 coefficients: [1.0, -8.927172841364559e-17, -1.505913740454346e-17, 1.0, -0.11624997517853496, 0, 0.8170328684744702, 0, 0, 0, 0, 0, 0, 0, 0]\n"
          ]
        },
        {
          "output_type": "display_data",
          "data": {
            "text/plain": [
              "<Figure size 432x288 with 1 Axes>"
            ],
            "image/png": "[encoded data removed]"
          },
          "metadata": {
            "needs_background": "light"
          }
        },
        {
          "output_type": "stream",
          "name": "stdout",
          "text": [
            "1.1 times the standard deviation: 112.53858731001719\n",
            "No trade at iter = 39\n",
            "Sharpe ratio for entry value = 1.1 and testing length = 1 : 6.210434735583774 where 12 number of trades occured.\n"
          ]
        },
        {
          "output_type": "display_data",
          "data": {
            "text/plain": [
              "<Figure size 432x288 with 1 Axes>"
            ],
            "image/png": "[encoded data removed]"
          },
          "metadata": {
            "needs_background": "light"
          }
        }
      ]
    },
    {
      "cell_type": "code",
      "source": [
        ""
      ],
      "metadata": {
        "id": "E2hYimvqMast"
      },
      "execution_count": null,
      "outputs": []
    }
  ]
}